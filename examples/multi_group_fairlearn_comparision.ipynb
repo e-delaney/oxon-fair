{
 "cells": [
  {
   "cell_type": "markdown",
   "metadata": {},
   "source": [
    "A comparision with FairLearn reductions on multi-group adult"
   ]
  },
  {
   "cell_type": "code",
   "execution_count": 1,
   "metadata": {},
   "outputs": [
    {
     "name": "stdout",
     "output_type": "stream",
     "text": [
      "0.7094544169999999\n"
     ]
    }
   ],
   "source": [
    "import dataset_loader\n",
    "from anonfair import FairPredictor\n",
    "from anonfair import group_metrics as gm\n",
    "from anonfair.utils.performance import evaluate_fairness\n",
    "import fairlearn.reductions\n",
    "\n",
    "import xgboost\n",
    "import pandas as pd\n",
    "import numpy as np\n",
    "import fairlearn\n",
    "import time\n",
    "import pandas as pd\n",
    "train_data, val_data, test_data = dataset_loader.adult('race',train_proportion=0.7,test_proportion=0.3)\n",
    "\n",
    "start=time.perf_counter()\n",
    "predictor = xgboost.XGBClassifier().fit(X=train_data['data'], y=train_data['target'])\n",
    "stop=time.perf_counter()\n",
    "print(stop-start)\n",
    "\n"
   ]
  },
  {
   "cell_type": "code",
   "execution_count": 2,
   "metadata": {},
   "outputs": [
    {
     "data": {
      "text/plain": [
       "array([' Amer-Indian-Eskimo', ' Asian-Pac-Islander', ' Black', ' Other',\n",
       "       ' White'], dtype=object)"
      ]
     },
     "execution_count": 2,
     "metadata": {},
     "output_type": "execute_result"
    },
    {
     "data": {
      "image/png": "[encoded data removed]",
      "text/plain": [
       "<Figure size 640x480 with 1 Axes>"
      ]
     },
     "metadata": {},
     "output_type": "display_data"
    }
   ],
   "source": [
    "from matplotlib import pyplot as plt\n",
    "plt.hist(test_data['groups'])\n",
    "np.unique(test_data['groups'])"
   ]
  },
  {
   "cell_type": "code",
   "execution_count": 3,
   "metadata": {},
   "outputs": [],
   "source": [
    "anon=pd.DataFrame(np.zeros((3,3)),columns=['Accuracy','Demographic Parity','Time'])\n",
    "anon=np.zeros((3,4))\n",
    "fairl=pd.DataFrame(np.zeros((3,3)),columns=['Accuracy','Demographic Parity','Time'])\n",
    "fairl=np.zeros((3,4))"
   ]
  },
  {
   "cell_type": "code",
   "execution_count": 4,
   "metadata": {},
   "outputs": [],
   "source": [
    "for i,name in enumerate ((' Amer-Indian-Eskimo', ' Asian-Pac-Islander', ' Black', \"Other\")):\n",
    "    start=time.perf_counter()\n",
    "    fpred = FairPredictor(predictor,train_data)\n",
    "    fpred.fit(gm.accuracy,gm.demographic_parity,0.01)\n",
    "    stop=time.perf_counter()\n",
    "    score=fpred.evaluate_fairness(test_data,metrics={'a':gm.accuracy,'b':gm.demographic_parity},verbose=False)\n",
    "    anon[0,i]=score['updated']['a']#['updated']\n",
    "    anon[1,i]=score['updated']['b']#['updated']\n",
    "    anon[2,i]=stop-start\n",
    "    start=time.perf_counter()\n",
    "    fair = fairlearn.reductions.ExponentiatedGradient(xgboost.XGBClassifier(),fairlearn.reductions.DemographicParity())\n",
    "    fair.fit(X=train_data['data'],\n",
    "         y=train_data['target'],\n",
    "         sensitive_features=train_data['groups'])\n",
    "    stop=time.perf_counter()\n",
    "    score=evaluate_fairness(test_data['target'], fair.predict(test_data['data']), test_data['groups'], metrics={'a':gm.accuracy,'b':gm.demographic_parity},verbose=False)\n",
    "    fairl[0,i]=score[0]['a']#['updated']\n",
    "    fairl[1,i]=score[0]['b']#['updated']\n",
    "    fairl[2,i]=stop-start\n",
    "    train_data['groups'][train_data['groups']==name]=' Other'\n",
    "    test_data['groups'][test_data['groups']==name]=' Other'"
   ]
  },
  {
   "cell_type": "code",
   "execution_count": 5,
   "metadata": {},
   "outputs": [],
   "source": [
    "anon_df=pd.DataFrame(anon.T,columns=['Accuracy','Demographic Parity','Time'])\n",
    "fairl_df=pd.DataFrame(fairl.T,columns=['Accuracy','Demographic Parity','Time'])\n"
   ]
  },
  {
   "cell_type": "code",
   "execution_count": 9,
   "metadata": {},
   "outputs": [
    {
     "name": "stdout",
     "output_type": "stream",
     "text": [
      "\\begin{tabular}{lrrrrrr}\n",
      "\\toprule\n",
      " & Accuracy & Demographic Parity & Time & Accuracy & Demographic Parity & Time \\\\\n",
      "\\midrule\n",
      "0 & 0.868414 & 0.020884 & 50.576869 & 0.867527 & 0.032869 & 42.506781 \\\\\n",
      "1 & 0.867663 & 0.028689 & 0.802240 & 0.868141 & 0.041368 & 27.054427 \\\\\n",
      "2 & 0.868073 & 0.008791 & 0.081120 & 0.867049 & 0.015203 & 23.689572 \\\\\n",
      "3 & 0.868073 & 0.003674 & 0.055124 & 0.869574 & 0.006705 & 27.069056 \\\\\n",
      "\\bottomrule\n",
      "\\end{tabular}\n",
      "\n"
     ]
    }
   ],
   "source": [
    "print(pd.concat((anon_df,fairl_df),axis=1).to_latex())"
   ]
  },
  {
   "cell_type": "code",
   "execution_count": null,
   "metadata": {},
   "outputs": [],
   "source": []
  }
 ],
 "metadata": {
  "kernelspec": {
   "display_name": "py3.8",
   "language": "python",
   "name": "python3"
  },
  "language_info": {
   "codemirror_mode": {
    "name": "ipython",
    "version": 3
   },
   "file_extension": ".py",
   "mimetype": "text/x-python",
   "name": "python",
   "nbconvert_exporter": "python",
   "pygments_lexer": "ipython3",
   "version": "3.8.18"
  }
 },
 "nbformat": 4,
 "nbformat_minor": 2
}
